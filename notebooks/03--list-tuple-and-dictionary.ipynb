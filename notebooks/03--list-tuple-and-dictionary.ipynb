{
 "cells": [
  {
   "cell_type": "code",
   "execution_count": 1,
   "metadata": {},
   "outputs": [
    {
     "name": "stdout",
     "output_type": "stream",
     "text": [
      "[1, 3, 5, 7, 9]\n",
      "1\n",
      "9\n",
      "a\n"
     ]
    }
   ],
   "source": [
    "# 리스트\n",
    "a = [1, 3, 5, 7, 9]\n",
    "print(a)\n",
    "\n",
    "print(a[0])     # 첫 번째 요소\n",
    "print(a[-1])    # 뒤에서 첫 번째 요소\n",
    "\n",
    "# 리스트 안에 리스트 포함 가능\n",
    "a = [1, 2, 3, ['a', 'b', 'c']]\n",
    "print(a[-1][0])"
   ]
  },
  {
   "cell_type": "code",
   "execution_count": 2,
   "metadata": {},
   "outputs": [
    {
     "name": "stdout",
     "output_type": "stream",
     "text": [
      "[10, 2, 3, 4, 5]\n",
      "[10, 2, 3, 4, 5]\n",
      "[1, 2, 3, 4, 5]\n",
      "[10, 2, 3, 4, 5]\n"
     ]
    }
   ],
   "source": [
    "# 얕은 복사\n",
    "a = [1, 2, 3, 4, 5]\n",
    "\n",
    "# 참조변수만 복사됨(실제 리스트가 복사되지 않음)\n",
    "b = a\n",
    "b[0] = 10\n",
    "print(a)\n",
    "print(b)\n",
    "\n",
    "\n",
    "# 깊은 복사\n",
    "a = [1, 2, 3, 4, 5]\n",
    "\n",
    "# 실제 리스트가 복사됨\n",
    "b = a[:]\n",
    "b[0] = 10\n",
    "print(a)\n",
    "print(b)"
   ]
  },
  {
   "cell_type": "code",
   "execution_count": 3,
   "metadata": {},
   "outputs": [
    {
     "name": "stdout",
     "output_type": "stream",
     "text": [
      "<class 'list'>\n",
      "5\n",
      "[1, 2]\n",
      "[1, 2, 3, 4, 5, 6]\n",
      "[1, 2, 3, 1, 2, 3, 1, 2, 3]\n"
     ]
    }
   ],
   "source": [
    "a = [1, 2, 3, 4, 5]\n",
    "\n",
    "print(type(a))\n",
    "print(len(a))   # 리스트의 요소 개수\n",
    "\n",
    "# [start:end - 1]\n",
    "# 0번부터 1번까지\n",
    "print(a[0:2])\n",
    "\n",
    "a = [1, 2, 3]\n",
    "b = [4, 5, 6]\n",
    "c = a + b       # 리스트 합치기\n",
    "print(c)\n",
    "\n",
    "a = [1, 2, 3]\n",
    "b = a * 3       # 리스트 3회 반복\n",
    "print(b)"
   ]
  },
  {
   "cell_type": "code",
   "execution_count": 4,
   "metadata": {},
   "outputs": [
    {
     "ename": "TypeError",
     "evalue": "unsupported operand type(s) for +: 'int' and 'str'",
     "output_type": "error",
     "traceback": [
      "\u001b[1;31m---------------------------------------------------------------------------\u001b[0m",
      "\u001b[1;31mTypeError\u001b[0m                                 Traceback (most recent call last)",
      "\u001b[1;32m<ipython-input-4-a2d5025b772d>\u001b[0m in \u001b[0;36m<module>\u001b[1;34m()\u001b[0m\n\u001b[0;32m      2\u001b[0m \u001b[1;33m\u001b[0m\u001b[0m\n\u001b[0;32m      3\u001b[0m \u001b[1;31m# 숫자와 문자열은 + 할 수 없음\u001b[0m\u001b[1;33m\u001b[0m\u001b[1;33m\u001b[0m\u001b[0m\n\u001b[1;32m----> 4\u001b[1;33m \u001b[0mprint\u001b[0m\u001b[1;33m(\u001b[0m\u001b[0ma\u001b[0m\u001b[1;33m[\u001b[0m\u001b[1;36m2\u001b[0m\u001b[1;33m]\u001b[0m \u001b[1;33m+\u001b[0m \u001b[1;34m\"hi\"\u001b[0m\u001b[1;33m)\u001b[0m\u001b[1;33m\u001b[0m\u001b[0m\n\u001b[0m",
      "\u001b[1;31mTypeError\u001b[0m: unsupported operand type(s) for +: 'int' and 'str'"
     ]
    }
   ],
   "source": [
    "a = [1, 2, 3]\n",
    "\n",
    "# 숫자와 문자열은 + 할 수 없음\n",
    "print(a[2] + \"hi\")"
   ]
  },
  {
   "cell_type": "code",
   "execution_count": 5,
   "metadata": {},
   "outputs": [
    {
     "name": "stdout",
     "output_type": "stream",
     "text": [
      "3hi\n",
      "3 hi\n"
     ]
    }
   ],
   "source": [
    "# str(숫자): 숫자를 문자열로 변환\n",
    "print(str(a[2]) + \"hi\")\n",
    "\n",
    "# 공백이 추가됨\n",
    "print(a[2], \"hi\")"
   ]
  },
  {
   "cell_type": "code",
   "execution_count": 6,
   "metadata": {},
   "outputs": [
    {
     "name": "stdout",
     "output_type": "stream",
     "text": [
      "[2]\n",
      "2\n",
      "<class 'list'>\n",
      "<class 'int'>\n",
      "[1, 'a', 'b', 'c', 3]\n",
      "[1, ['a', 'b', 'c'], 3]\n"
     ]
    }
   ],
   "source": [
    "a = [1, 2, 3]\n",
    "\n",
    "# 1번 추출\n",
    "print(a[1:2])\n",
    "print(a[1])\n",
    "print(type(a[1:2]))\n",
    "print(type(a[1]))\n",
    "\n",
    "# 리스트의 내용 변경\n",
    "a[1:2] = ['a', 'b', 'c']\n",
    "print(a)\n",
    "\n",
    "a = [1, 2, 3]\n",
    "\n",
    "# 하위 리스트로 입력됨\n",
    "a[1] = ['a', 'b', 'c']\n",
    "print(a)"
   ]
  },
  {
   "cell_type": "code",
   "execution_count": 7,
   "metadata": {},
   "outputs": [
    {
     "name": "stdout",
     "output_type": "stream",
     "text": [
      "[1]\n",
      "[1, 3]\n"
     ]
    }
   ],
   "source": [
    "# 리스트 삭제\n",
    "a = [1, 2, 3]\n",
    "\n",
    "a[1:3] = []     # 인덱스 1 ~ 2가 지워짐\n",
    "print(a)\n",
    "\n",
    "a = [1, 2, 3]\n",
    "del a[1]        # 인덱스 1이 지워짐\n",
    "print(a)"
   ]
  },
  {
   "cell_type": "code",
   "execution_count": 8,
   "metadata": {},
   "outputs": [
    {
     "name": "stdout",
     "output_type": "stream",
     "text": [
      "[1, 2, 3, 4]\n",
      "[1, 2, 3, 4, [5, 6]]\n"
     ]
    }
   ],
   "source": [
    "a = [1, 2, 3]\n",
    "\n",
    "# 리스트의 마지막 위치에 요소 추가\n",
    "a.append(4)\n",
    "print(a)\n",
    "\n",
    "# 리스트의 마지막 위치에 하위 리스트 추가\n",
    "a.append([5, 6])\n",
    "print(a)"
   ]
  },
  {
   "cell_type": "code",
   "execution_count": 9,
   "metadata": {},
   "outputs": [
    {
     "name": "stdout",
     "output_type": "stream",
     "text": [
      "[1, 2, 3, 4]\n",
      "[4, 3, 2, 1]\n",
      "['a', 'b', 'c']\n",
      "['b', 'c', 'a']\n"
     ]
    }
   ],
   "source": [
    "# 리스트의 정렬\n",
    "a = [1, 4, 3, 2]\n",
    "a.sort()\n",
    "print(a)\n",
    "\n",
    "# 리스트 뒤집기\n",
    "a.reverse()\n",
    "print(a)\n",
    "\n",
    "\n",
    "a = ['a', 'c', 'b']\n",
    "a.sort()\n",
    "print(a)\n",
    "\n",
    "a = ['a', 'c', 'b']\n",
    "a.reverse()\n",
    "print(a)"
   ]
  },
  {
   "cell_type": "code",
   "execution_count": 10,
   "metadata": {},
   "outputs": [
    {
     "name": "stdout",
     "output_type": "stream",
     "text": [
      "2\n",
      "0\n"
     ]
    },
    {
     "ename": "ValueError",
     "evalue": "0 is not in list",
     "output_type": "error",
     "traceback": [
      "\u001b[1;31m---------------------------------------------------------------------------\u001b[0m",
      "\u001b[1;31mValueError\u001b[0m                                Traceback (most recent call last)",
      "\u001b[1;32m<ipython-input-10-90245a48a567>\u001b[0m in \u001b[0;36m<module>\u001b[1;34m()\u001b[0m\n\u001b[0;32m      5\u001b[0m \u001b[1;33m\u001b[0m\u001b[0m\n\u001b[0;32m      6\u001b[0m \u001b[1;31m# 존재하지 않는 값인 경우 에러 발생\u001b[0m\u001b[1;33m\u001b[0m\u001b[1;33m\u001b[0m\u001b[0m\n\u001b[1;32m----> 7\u001b[1;33m \u001b[0mprint\u001b[0m\u001b[1;33m(\u001b[0m\u001b[0ma\u001b[0m\u001b[1;33m.\u001b[0m\u001b[0mindex\u001b[0m\u001b[1;33m(\u001b[0m\u001b[1;36m0\u001b[0m\u001b[1;33m)\u001b[0m\u001b[1;33m)\u001b[0m   \u001b[1;31m# 리스트 a에서 0이 위치한 인덱스 값\u001b[0m\u001b[1;33m\u001b[0m\u001b[0m\n\u001b[0m",
      "\u001b[1;31mValueError\u001b[0m: 0 is not in list"
     ]
    }
   ],
   "source": [
    "a = [1, 2, 3]\n",
    "\n",
    "print(a.index(3))   # 리스트 a에서 3이 위치한 인덱스 값\n",
    "print(a.index(1))   # 리스트 a에서 1이 위치한 인덱스 값\n",
    "\n",
    "# 존재하지 않는 값인 경우 에러 발생\n",
    "print(a.index(0))   # 리스트 a에서 0이 위치한 인덱스 값"
   ]
  },
  {
   "cell_type": "code",
   "execution_count": 11,
   "metadata": {},
   "outputs": [
    {
     "name": "stdout",
     "output_type": "stream",
     "text": [
      "[1, 2, 3]\n",
      "[4, 1, 2, 3]\n"
     ]
    }
   ],
   "source": [
    "# 리스트에 요소 삽입(insert)\n",
    "list = [1, 2, 3]\n",
    "print(list)\n",
    "\n",
    "# 인덱스 0에 4 insert\n",
    "list.insert(0, 4)\n",
    "print(list)"
   ]
  },
  {
   "cell_type": "code",
   "execution_count": 12,
   "metadata": {},
   "outputs": [
    {
     "name": "stdout",
     "output_type": "stream",
     "text": [
      "[1, 2, 1, 2, 3]\n"
     ]
    }
   ],
   "source": [
    "# 리스트 요소 제거(remove)\n",
    "list = [1, 2, 3, 1, 2, 3]\n",
    "\n",
    "# 첫 번째 값만 제거\n",
    "list.remove(3)\n",
    "print(list)"
   ]
  },
  {
   "cell_type": "code",
   "execution_count": 13,
   "metadata": {},
   "outputs": [
    {
     "name": "stdout",
     "output_type": "stream",
     "text": [
      "[1, 2]\n",
      "3\n"
     ]
    }
   ],
   "source": [
    "# 리스트 요소 끄집어내기(pop)\n",
    "# pop(): 리스트의 맨 마지막 요소를 돌려주고 그 요소는 삭제\n",
    "list = [1, 2, 3]\n",
    "popped_item = list.pop()\n",
    "print(list)\n",
    "print(popped_item)"
   ]
  },
  {
   "cell_type": "code",
   "execution_count": 14,
   "metadata": {},
   "outputs": [
    {
     "name": "stdout",
     "output_type": "stream",
     "text": [
      "1\n"
     ]
    }
   ],
   "source": [
    "# 리스트 개수 세기(count)\n",
    "list = [1, 2, 3, 1]\n",
    "count_of_one = a.count(1)\n",
    "print(count_of_one)"
   ]
  },
  {
   "cell_type": "code",
   "execution_count": 15,
   "metadata": {},
   "outputs": [
    {
     "name": "stdout",
     "output_type": "stream",
     "text": [
      "[1, 2, 3, 4, 5]\n"
     ]
    }
   ],
   "source": [
    "# 리스트 확장(extend)\n",
    "# extend(x)에서 x에는 리스트만 올 수 있음\n",
    "list = [1, 2, 3]\n",
    "list.extend([4, 5])\n",
    "print(list)"
   ]
  },
  {
   "cell_type": "code",
   "execution_count": 16,
   "metadata": {},
   "outputs": [
    {
     "name": "stdout",
     "output_type": "stream",
     "text": [
      "True\n",
      "False\n"
     ]
    }
   ],
   "source": [
    "# in과 not in\n",
    "list = [1, 2, 3, 4, 5]\n",
    "\n",
    "# list에 2가 포함되어 있는가?\n",
    "result = 2 in list\n",
    "print(result)\n",
    "\n",
    "# list에 2가 포함되어 있지 않은가?\n",
    "result = 2 not in list\n",
    "print(result)"
   ]
  }
 ],
 "metadata": {
  "kernelspec": {
   "display_name": "Python 3",
   "language": "python",
   "name": "python3"
  },
  "language_info": {
   "codemirror_mode": {
    "name": "ipython",
    "version": 3
   },
   "file_extension": ".py",
   "mimetype": "text/x-python",
   "name": "python",
   "nbconvert_exporter": "python",
   "pygments_lexer": "ipython3",
   "version": "3.6.5"
  }
 },
 "nbformat": 4,
 "nbformat_minor": 2
}
