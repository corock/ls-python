{
 "cells": [
  {
   "cell_type": "code",
   "execution_count": 2,
   "metadata": {},
   "outputs": [
    {
     "name": "stdout",
     "output_type": "stream",
     "text": [
      "입력하세요: 100\n",
      "결과:  100\n",
      "<class 'str'>\n"
     ]
    }
   ],
   "source": [
    "a = input(\"입력하세요: \")\n",
    "print(\"결과: \", a)\n",
    "\n",
    "# 입력 값의 자료형은 스트링\n",
    "print(type(a))"
   ]
  },
  {
   "cell_type": "code",
   "execution_count": 3,
   "metadata": {},
   "outputs": [
    {
     "name": "stdout",
     "output_type": "stream",
     "text": [
      "단을 입력하세요: 5\n",
      "<class 'str'>\n",
      "단을 입력하세요: 5\n",
      "<class 'int'>\n"
     ]
    }
   ],
   "source": [
    "dan = input(\"단을 입력하세요: \")\n",
    "# 입력 값은 스트링으로 저장됨\n",
    "print(type(dan))\n",
    "\n",
    "# eval() 함수로 감싸면 숫자로 처리됨\n",
    "dan = eval(input(\"단을 입력하세요: \"))\n",
    "print(type(dan))"
   ]
  },
  {
   "cell_type": "code",
   "execution_count": 4,
   "metadata": {},
   "outputs": [
    {
     "name": "stdout",
     "output_type": "stream",
     "text": [
      "단을 입력하세요: 5\n",
      "<class 'int'>\n"
     ]
    }
   ],
   "source": [
    "dan = input(\"단을 입력하세요: \")\n",
    "d = int(dan)\n",
    "print(type(d))"
   ]
  },
  {
   "cell_type": "code",
   "execution_count": 5,
   "metadata": {},
   "outputs": [
    {
     "name": "stdout",
     "output_type": "stream",
     "text": [
      "단을 입력하세요: 5\n",
      "<class 'str'>\n",
      "<class 'int'>\n",
      "5 x 1 = 5\n",
      "5 x 2 = 10\n",
      "5 x 3 = 15\n",
      "5 x 4 = 20\n",
      "5 x 5 = 25\n",
      "5 x 6 = 30\n",
      "5 x 7 = 35\n",
      "5 x 8 = 40\n",
      "5 x 9 = 45\n"
     ]
    }
   ],
   "source": [
    "dan = input(\"단을 입력하세요: \")\n",
    "\n",
    "# 스트링\n",
    "print(type(dan))\n",
    "\n",
    "# int(스트링) => 스트링을 숫자로\n",
    "d = int(dan)\n",
    "print(type(d))\n",
    "\n",
    "for i in range(1, 10):\n",
    "    # print(dan, \"x\", i, \"=\", dan * i)\n",
    "    print(d, \"x\", i, \"=\", d * i)"
   ]
  },
  {
   "cell_type": "code",
   "execution_count": 6,
   "metadata": {},
   "outputs": [
    {
     "name": "stdout",
     "output_type": "stream",
     "text": [
      "goodmorning\n",
      "goodmorning\n",
      "goodmorning\n",
      "goodmorning\n",
      "good morning\n",
      "0\n",
      "1\n",
      "2\n",
      "3\n",
      "4\n",
      "5\n",
      "6\n",
      "7\n",
      "8\n",
      "9\n",
      "0 1 2 3 4 5 6 7 8 9 "
     ]
    }
   ],
   "source": [
    "# print() 함수\n",
    "# 문자열 연결\n",
    "# 따옴표로 감싼 문자열은 + 연산과 동일하다\n",
    "\n",
    "# 연산자가 없어도 문자열이 연결됨\n",
    "print(\"good\" \"morning\")\n",
    "# 문자열이 연결됨\n",
    "print(\"good\" + \"morning\")\n",
    "print('good' 'morning')\n",
    "print('good' + 'morning')\n",
    "\n",
    "# 문자열 띄어쓰기는 컴머를 사용한다\n",
    "# 공백이 추가됨\n",
    "print(\"good\", \"morning\")\n",
    "\n",
    "# 10줄로 출력됨\n",
    "# range(10): 0 ~ 9\n",
    "# range(1, 10): 1 ~ 9\n",
    "for i in range(10):\n",
    "    # 개행문자가 포함됨\n",
    "    print(i)\n",
    "\n",
    "# 한 줄에 출력됨\n",
    "for i in range(10):\n",
    "    # 개행문자 대신 공백문자 사용\n",
    "    print(i, end = ' ')"
   ]
  },
  {
   "cell_type": "code",
   "execution_count": 7,
   "metadata": {},
   "outputs": [
    {
     "name": "stdout",
     "output_type": "stream",
     "text": [
      "Hello, Lee.\n"
     ]
    }
   ],
   "source": [
    "# { } 위치에 Kim이 입력되어 출력됨\n",
    "print('Hello, {0}.'.format('Lee'))"
   ]
  },
  {
   "cell_type": "code",
   "execution_count": 8,
   "metadata": {},
   "outputs": [
    {
     "name": "stdout",
     "output_type": "stream",
     "text": [
      "이름을 입력하세요: 김철수\n",
      "Hello, 김철수.\n"
     ]
    }
   ],
   "source": [
    "name = input('이름을 입력하세요: ')\n",
    "print('Hello, {0}.'.format(name))"
   ]
  },
  {
   "cell_type": "code",
   "execution_count": 9,
   "metadata": {},
   "outputs": [
    {
     "name": "stdout",
     "output_type": "stream",
     "text": [
      "이름을 입력하세요: 김철수\n",
      "직업을 입력하세요: 개발자\n",
      "김철수의 직업은 개발자이다.\n"
     ]
    }
   ],
   "source": [
    "name = input('이름을 입력하세요: ')\n",
    "job = input('직업을 입력하세요: ')\n",
    "print('{0}의 직업은 {1}이다.'.format(name, job))"
   ]
  },
  {
   "cell_type": "code",
   "execution_count": 10,
   "metadata": {},
   "outputs": [
    {
     "name": "stdout",
     "output_type": "stream",
     "text": [
      "이름을 입력하세요: 김철수\n",
      "직업을 입력하세요: 개발자\n",
      "김철수의 직업은 개발자이다.\n"
     ]
    }
   ],
   "source": [
    "name = input('이름을 입력하세요: ')\n",
    "job = input('직업을 입력하세요: ')\n",
    "\n",
    "# 출력 순서를 바꿀 수 있다.\n",
    "print('{1}의 직업은 {0}이다.'.format(job, name))"
   ]
  },
  {
   "cell_type": "code",
   "execution_count": 11,
   "metadata": {},
   "outputs": [
    {
     "name": "stdout",
     "output_type": "stream",
     "text": [
      "이름을 입력하세요: 김철호\n",
      "직업을 입력하세요: 변호사\n",
      "김철호의 직업은 변호사이다.\n"
     ]
    }
   ],
   "source": [
    "name = input('이름을 입력하세요: ')\n",
    "job = input('직업을 입력하세요: ')\n",
    "\n",
    "# 인덱스 대신 변수명을 쓸 수 있다.\n",
    "print('{n}의 직업은 {j}이다.'.format(j = job, n = name))"
   ]
  },
  {
   "cell_type": "code",
   "execution_count": 12,
   "metadata": {},
   "outputs": [
    {
     "name": "stdout",
     "output_type": "stream",
     "text": [
      "3.141592653589793\n",
      "원주율: 3.141593\n",
      "원주율: 3.14\n"
     ]
    }
   ],
   "source": [
    "import math\n",
    "print(math.pi)\n",
    "\n",
    "# 소수 6째 자리까지 출력\n",
    "print('원주율: {0:f}'.format(math.pi))\n",
    "\n",
    "# 소수 이하 2자리\n",
    "print('원주율: {0:.2f}'.format(math.pi))"
   ]
  },
  {
   "cell_type": "code",
   "execution_count": 14,
   "metadata": {},
   "outputs": [
    {
     "name": "stdout",
     "output_type": "stream",
     "text": [
      "10진수: 10, 16진수(소문자): a, 16진수(대문자): A, 8진수: 12, 2진수: 1010\n",
      "10진수: 10, 16진수(소문자): 0xa, 16진수(대문자): 0XA, 8진수: 0o12, 2진수: 0b1010\n"
     ]
    }
   ],
   "source": [
    "num = 10\n",
    "str = '10진수: {0:d}, 16진수(소문자): {0:x}, 16진수(대문자): {0:X}, 8진수: {0:o}, 2진수: {0:b}'.format(num)\n",
    "print(str)\n",
    "\n",
    "# 접두사 표현하기\n",
    "str = '10진수: {0:d}, 16진수(소문자): {0:#x}, 16진수(대문자): {0:#X}, 8진수: {0:#o}, 2진수: {0:#b}'.format(num)\n",
    "print(str)"
   ]
  }
 ],
 "metadata": {
  "kernelspec": {
   "display_name": "Python 3",
   "language": "python",
   "name": "python3"
  },
  "language_info": {
   "codemirror_mode": {
    "name": "ipython",
    "version": 3
   },
   "file_extension": ".py",
   "mimetype": "text/x-python",
   "name": "python",
   "nbconvert_exporter": "python",
   "pygments_lexer": "ipython3",
   "version": "3.6.5"
  }
 },
 "nbformat": 4,
 "nbformat_minor": 2
}
