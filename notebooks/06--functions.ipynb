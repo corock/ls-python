{
 "cells": [
  {
   "cell_type": "code",
   "execution_count": 1,
   "metadata": {},
   "outputs": [
    {
     "name": "stdout",
     "output_type": "stream",
     "text": [
      "3\n",
      "10\n"
     ]
    }
   ],
   "source": [
    "# abs() 절대값 계산 함수\n",
    "print(abs(-3))\n",
    "print(abs(10))"
   ]
  },
  {
   "cell_type": "code",
   "execution_count": 2,
   "metadata": {},
   "outputs": [
    {
     "name": "stdout",
     "output_type": "stream",
     "text": [
      "True\n",
      "False\n"
     ]
    }
   ],
   "source": [
    "# 모든 값이 True이면 True, 0이 아니면 True, 0이면 False\n",
    "print(all([1, 2, 3]))\n",
    "print(all([1, 2, 3, 0]))"
   ]
  },
  {
   "cell_type": "code",
   "execution_count": 3,
   "metadata": {},
   "outputs": [
    {
     "name": "stdout",
     "output_type": "stream",
     "text": [
      "True\n",
      "False\n"
     ]
    }
   ],
   "source": [
    "# 하나라도 False가 아니면 True\n",
    "print(any([0, 1, 2]))\n",
    "print(any([0, \"\"]))"
   ]
  },
  {
   "cell_type": "code",
   "execution_count": 4,
   "metadata": {},
   "outputs": [
    {
     "name": "stdout",
     "output_type": "stream",
     "text": [
      "['__add__', '__class__', '__contains__', '__delattr__', '__delitem__', '__dir__', '__doc__', '__eq__', '__format__', '__ge__', '__getattribute__', '__getitem__', '__gt__', '__hash__', '__iadd__', '__imul__', '__init__', '__init_subclass__', '__iter__', '__le__', '__len__', '__lt__', '__mul__', '__ne__', '__new__', '__reduce__', '__reduce_ex__', '__repr__', '__reversed__', '__rmul__', '__setattr__', '__setitem__', '__sizeof__', '__str__', '__subclasshook__', 'append', 'clear', 'copy', 'count', 'extend', 'index', 'insert', 'pop', 'remove', 'reverse', 'sort']\n"
     ]
    }
   ],
   "source": [
    "print(dir([1, 2, 3]))"
   ]
  },
  {
   "cell_type": "code",
   "execution_count": 5,
   "metadata": {},
   "outputs": [
    {
     "name": "stdout",
     "output_type": "stream",
     "text": [
      "['__class__', '__contains__', '__delattr__', '__delitem__', '__dir__', '__doc__', '__eq__', '__format__', '__ge__', '__getattribute__', '__getitem__', '__gt__', '__hash__', '__init__', '__init_subclass__', '__iter__', '__le__', '__len__', '__lt__', '__ne__', '__new__', '__reduce__', '__reduce_ex__', '__repr__', '__setattr__', '__setitem__', '__sizeof__', '__str__', '__subclasshook__', 'clear', 'copy', 'fromkeys', 'get', 'items', 'keys', 'pop', 'popitem', 'setdefault', 'update', 'values']\n"
     ]
    }
   ],
   "source": [
    "print(dir({\"1\": \"a\"}))"
   ]
  },
  {
   "cell_type": "code",
   "execution_count": 6,
   "metadata": {},
   "outputs": [
    {
     "name": "stdout",
     "output_type": "stream",
     "text": [
      "(2, 1)\n",
      "(6.0, 0.09999999999999998)\n"
     ]
    }
   ],
   "source": [
    "# divmod(a, b) a를 b로 나눈 몫과 나머지를 튜플 형태로 리턴\n",
    "print(divmod(7, 3))\n",
    "print(divmod(1.3, 0.2))"
   ]
  },
  {
   "cell_type": "code",
   "execution_count": 7,
   "metadata": {},
   "outputs": [
    {
     "name": "stdout",
     "output_type": "stream",
     "text": [
      "0 10\n",
      "1 20\n",
      "2 30\n",
      "3 40\n",
      "4 50\n"
     ]
    }
   ],
   "source": [
    "# enumerate() 순서가 있는 자료형(리스트, 튜플, 문자열)을 입력받아\n",
    "# 인덱스 값을 포함하는 enumerate 객체를 리턴\n",
    "for i, num in enumerate([10, 20, 30, 40, 50]):\n",
    "    print(i, num)"
   ]
  },
  {
   "cell_type": "code",
   "execution_count": 8,
   "metadata": {},
   "outputs": [
    {
     "name": "stdout",
     "output_type": "stream",
     "text": [
      "1 + 2\n",
      "3\n",
      "divmod(4, 3)\n",
      "(1, 1)\n"
     ]
    }
   ],
   "source": [
    "# eval(expression): 실행가능한 문자열을 입력받아 문자열을 실행한 결과값을 리턴\n",
    "print(\"1 + 2\")\n",
    "print(eval('1 + 2'))\n",
    "\n",
    "print(\"divmod(4, 3)\")\n",
    "print(eval('divmod(4, 3)'))"
   ]
  },
  {
   "cell_type": "code",
   "execution_count": 9,
   "metadata": {},
   "outputs": [
    {
     "name": "stdout",
     "output_type": "stream",
     "text": [
      "0xea\n",
      "0x3\n"
     ]
    }
   ],
   "source": [
    "# hex(x): 정수값을 입력받아 16진수(hexadecimal)로 변환하여 리턴\n",
    "print(hex(234))\n",
    "print(hex(3))"
   ]
  },
  {
   "cell_type": "code",
   "execution_count": 10,
   "metadata": {},
   "outputs": [
    {
     "name": "stdout",
     "output_type": "stream",
     "text": [
      "1635806336\n",
      "1635806336\n",
      "1635806336\n"
     ]
    }
   ],
   "source": [
    "# id(object): 객체를 입력받아 객체의 고유 주소값(레퍼런스)을 리턴\n",
    "a = 3\n",
    "print(id(3))\n",
    "print(id(a))\n",
    "\n",
    "b = a\n",
    "print(id(b))"
   ]
  },
  {
   "cell_type": "code",
   "execution_count": 12,
   "metadata": {},
   "outputs": [
    {
     "name": "stdout",
     "output_type": "stream",
     "text": [
      "aa\n",
      "aa\n",
      "입력하세요: bb\n",
      "bb\n"
     ]
    }
   ],
   "source": [
    "# input([prompt]): 사용자의 입력을 받는 함수\n",
    "a = input()\n",
    "print(a)\n",
    "b = input(\"입력하세요: \")\n",
    "print(b)"
   ]
  },
  {
   "cell_type": "code",
   "execution_count": 14,
   "metadata": {},
   "outputs": [
    {
     "name": "stdout",
     "output_type": "stream",
     "text": [
      "<class 'int'>\n",
      "3\n",
      "3\n",
      "15\n",
      "255\n"
     ]
    }
   ],
   "source": [
    "# int(x): 문자열 형태의 숫자나 소수점이 있는 숫자 등을 정수 형태로 바꿔주는 함수\n",
    "a = int('3')\n",
    "print(type(a))\n",
    "print(a)\n",
    "b = int(3.9)\n",
    "print(b)\n",
    "\n",
    "# int(입력값, 진법): 입력된 값을 radix 진수로 표현\n",
    "# 2진수 1111을 10진수로\n",
    "c = int('1111', 2)\n",
    "print(c)\n",
    "\n",
    "# 16진수 FF를 10진수로\n",
    "d = int('FF', 16)\n",
    "print(d)"
   ]
  },
  {
   "cell_type": "code",
   "execution_count": 15,
   "metadata": {},
   "outputs": [
    {
     "name": "stdout",
     "output_type": "stream",
     "text": [
      "<class 'list'>\n",
      "<class 'str'>\n",
      "사과,배,수박,바나나,포도\n",
      "사과/배/수박/바나나/포도\n",
      "사과\n",
      "배\n",
      "수박\n",
      "바나나\n",
      "포도\n"
     ]
    }
   ],
   "source": [
    "# join 리스트를 특정 구분자를 포함하여 문자열로 변환\n",
    "fruits = ['사과', '배', '수박', '바나나', '포도']\n",
    "\n",
    "# 리스트의 각 요소와 쉼표 구분자를 연결\n",
    "print(type(fruits))\n",
    "print(type(','.join(fruits)))\n",
    "print(','.join(fruits))\n",
    "print('/'.join(fruits))\n",
    "print('\\n'.join(fruits))"
   ]
  },
  {
   "cell_type": "code",
   "execution_count": 16,
   "metadata": {},
   "outputs": [
    {
     "name": "stdout",
     "output_type": "stream",
     "text": [
      "6\n",
      "3\n",
      "2\n"
     ]
    }
   ],
   "source": [
    "# len(s): 요소의 전체 개수\n",
    "a = len(\"python\")\n",
    "print(a)\n",
    "\n",
    "b = len([1, 2, 3])\n",
    "print(b)\n",
    "\n",
    "c = len((1, 'a'))\n",
    "print(c)"
   ]
  },
  {
   "cell_type": "code",
   "execution_count": 17,
   "metadata": {},
   "outputs": [
    {
     "name": "stdout",
     "output_type": "stream",
     "text": [
      "['p', 'y', 't', 'h', 'o', 'n']\n",
      "<class 'list'>\n",
      "[1, 2, 3]\n"
     ]
    }
   ],
   "source": [
    "# list(s): 리스트를 리턴\n",
    "# 문자열을 리스트로\n",
    "a = list(\"python\") \n",
    "print(a)\n",
    "print(type(a))\n",
    "\n",
    "# 튜플을 리스트로\n",
    "b = list((1, 2, 3))\n",
    "print(b)"
   ]
  },
  {
   "cell_type": "code",
   "execution_count": 19,
   "metadata": {},
   "outputs": [
    {
     "name": "stdout",
     "output_type": "stream",
     "text": [
      "20\n",
      "[2, 4, 6, 8]\n",
      "[2, 3, 4, 5, 6]\n"
     ]
    }
   ],
   "source": [
    "# def 함수이름(입력매개변수)\n",
    "def calc(x):\n",
    "    return x * 2\n",
    "\n",
    "print(calc(10))\n",
    "\n",
    "# map(함수이름, 입력값)\n",
    "a = list(map(calc, [1, 2, 3, 4]))\n",
    "print(a)\n",
    "\n",
    "def plus(x):\n",
    "    return x + 1\n",
    "\n",
    "print(list(map(plus, [1, 2, 3, 4, 5])))"
   ]
  },
  {
   "cell_type": "code",
   "execution_count": 20,
   "metadata": {},
   "outputs": [
    {
     "name": "stdout",
     "output_type": "stream",
     "text": [
      "88\n",
      "y\n"
     ]
    }
   ],
   "source": [
    "# max(iterable): 최대값 리턴\n",
    "a = max([1, 2, 50, 49, 88, 3])\n",
    "print(a)\n",
    "\n",
    "# 문자열에서는 문자코드값이 가장 큰 문자 리턴\n",
    "b = max(\"python\")\n",
    "print(b)"
   ]
  },
  {
   "cell_type": "code",
   "execution_count": 21,
   "metadata": {},
   "outputs": [
    {
     "name": "stdout",
     "output_type": "stream",
     "text": [
      "-10\n",
      "h\n"
     ]
    }
   ],
   "source": [
    "# min(iterable): 최소값 리턴\n",
    "a = min([1, 2, 3, 5, -5, -10])\n",
    "print(a)\n",
    "\n",
    "b = min(\"python\")\n",
    "print(b)"
   ]
  },
  {
   "cell_type": "code",
   "execution_count": 22,
   "metadata": {},
   "outputs": [
    {
     "name": "stdout",
     "output_type": "stream",
     "text": [
      "16\n",
      "27\n"
     ]
    }
   ],
   "source": [
    "# pow(x, y): x를 y 제곱한 결과 리턴\n",
    "a = pow(2, 4)\n",
    "print(a)\n",
    "\n",
    "b = pow(3, 3)\n",
    "print(b)"
   ]
  },
  {
   "cell_type": "code",
   "execution_count": 23,
   "metadata": {},
   "outputs": [
    {
     "name": "stdout",
     "output_type": "stream",
     "text": [
      "[0, 1, 2, 3, 4]\n",
      "[5, 6, 7, 8, 9]\n",
      "[1, 3, 5, 7, 9]\n",
      "[0, -1, -2, -3, -4, -5, -6, -7, -8, -9]\n",
      "[100, 99, 98, 97, 96, 95, 94, 93, 92, 91, 90, 89, 88, 87, 86, 85, 84, 83, 82, 81, 80, 79, 78, 77, 76, 75, 74, 73, 72, 71, 70, 69, 68, 67, 66, 65, 64, 63, 62, 61, 60, 59, 58, 57, 56, 55, 54, 53, 52, 51, 50, 49, 48, 47, 46, 45, 44, 43, 42, 41, 40, 39, 38, 37, 36, 35, 34, 33, 32, 31, 30, 29, 28, 27, 26, 25, 24, 23, 22, 21, 20, 19, 18, 17, 16, 15, 14, 13, 12, 11, 10, 9, 8, 7, 6, 5, 4, 3, 2, 1]\n"
     ]
    }
   ],
   "source": [
    "# range([start,] stop [,step])\n",
    "# 입력받은 숫자에 해당되는 범위의 값을 반복 가능한 객체로 만들어 리턴\n",
    "# 0부터 4까지\n",
    "a = list(range(5))\n",
    "print(a)\n",
    "\n",
    "# 5부터 9까지\n",
    "b = list(range(5, 10))\n",
    "print(b)\n",
    "\n",
    "# 1부터 9까지 2씩 증가\n",
    "c = list(range(1, 10, 2))\n",
    "print(c)\n",
    "\n",
    "# 0부터 -9까지 1씩 감소\n",
    "d = list(range(0, -10, -1))\n",
    "print(d)\n",
    "\n",
    "e = list(range(100, 0, -1))\n",
    "print(e)"
   ]
  },
  {
   "cell_type": "code",
   "execution_count": 24,
   "metadata": {},
   "outputs": [
    {
     "name": "stdout",
     "output_type": "stream",
     "text": [
      "[3, 1, 2]\n",
      "[1, 2, 3]\n",
      "[1, 2, 3]\n",
      "['a', 'b', 'c']\n",
      "['e', 'o', 'r', 'z']\n",
      "None\n",
      "[1, 2, 3]\n"
     ]
    }
   ],
   "source": [
    "# sorted(iterable): 입력값을 정렬한 후 그 결과를 리스트로 리턴\n",
    "list1 = [3, 1, 2]\n",
    "l = sorted(list1)\n",
    "print(list1)\n",
    "print(l)\n",
    "\n",
    "a = sorted([3, 1, 2])\n",
    "print(a)\n",
    "b = sorted(['a', 'c', 'b'])\n",
    "print(b)\n",
    "c = sorted(\"zero\")\n",
    "print(c)\n",
    "\n",
    "# 기본내장함수 sorted()와 리스트 자료형의 sort() 함수의 차이점\n",
    "# sort() 함수는 정렬만 하고 결과를 리턴하지 않음\n",
    "items = [3, 1, 2]\n",
    "\n",
    "# 리턴값이 없기 때문에 result 변수에 None이 리턴된다.\n",
    "result = items.sort()\n",
    "print(result)\n",
    "\n",
    "# items 리스트는 정렬이 되어 있다.\n",
    "print(items)"
   ]
  },
  {
   "cell_type": "code",
   "execution_count": 26,
   "metadata": {},
   "outputs": [
    {
     "name": "stdout",
     "output_type": "stream",
     "text": [
      "['사과', '포도', '배', '복숭아', '자두']\n"
     ]
    }
   ],
   "source": [
    "# split: 문자열을 구분자를 기준으로 리스트로 변환\n",
    "str = '사과/포도/배/복숭아/자두'\n",
    "fruits = str.split('/')\n",
    "print(fruits)"
   ]
  },
  {
   "cell_type": "code",
   "execution_count": 28,
   "metadata": {},
   "outputs": [
    {
     "name": "stdout",
     "output_type": "stream",
     "text": [
      "hi \n",
      "3\n",
      "\n",
      "\t hi\n"
     ]
    }
   ],
   "source": [
    "# strip() 문자열 좌우의 공백, 개행문자, 탭문자를 제거\n",
    "a = '\\n\\t hi '\n",
    "# print(a)\n",
    "\n",
    "b = a.strip()\n",
    "# print(b)\n",
    "\n",
    "print(a.lstrip())\n",
    "print(len(a.lstrip()))\n",
    "print(a.rstrip())"
   ]
  }
 ],
 "metadata": {
  "kernelspec": {
   "display_name": "Python 3",
   "language": "python",
   "name": "python3"
  },
  "language_info": {
   "codemirror_mode": {
    "name": "ipython",
    "version": 3
   },
   "file_extension": ".py",
   "mimetype": "text/x-python",
   "name": "python",
   "nbconvert_exporter": "python",
   "pygments_lexer": "ipython3",
   "version": "3.6.5"
  }
 },
 "nbformat": 4,
 "nbformat_minor": 2
}
